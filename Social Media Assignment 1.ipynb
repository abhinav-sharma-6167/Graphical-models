{
 "cells": [
  {
   "cell_type": "markdown",
   "metadata": {},
   "source": [
    "## Part 1"
   ]
  },
  {
   "attachments": {},
   "cell_type": "markdown",
   "metadata": {},
   "source": [
    "<font face = \"Tahoma\" size = 3> \n",
    "    Find predictors of influence\n",
    "The dataset for Part I can be found <a href = http://www.kaggle.com/c/predict-who-is-more-influential-in-a-social-network> here</a>. \n",
    "Use the training dataset only to build and validate your model. Each observation in the dataset describes two individuals, A and B.<br><br>\n",
    "    There are 11 variables for each person based on Twitter activity, e.g., number of followers, retweets, network characteristics, etc. <br><br>Each observation shows whether A > B (Choice = “1”) or B > A (Choice = “0”). \n"
   ]
  },
  {
   "cell_type": "code",
   "execution_count": 43,
   "metadata": {
    "ExecuteTime": {
     "end_time": "2022-02-09T04:46:14.016596Z",
     "start_time": "2022-02-09T04:46:13.993717Z"
    },
    "executionInfo": {
     "elapsed": 161,
     "status": "ok",
     "timestamp": 1644361830449,
     "user": {
      "displayName": "Brent Hensley",
      "photoUrl": "https://lh3.googleusercontent.com/a/default-user=s64",
      "userId": "00674240744772166008"
     },
     "user_tz": 360
    },
    "id": "slsFzDXEdqxW"
   },
   "outputs": [],
   "source": [
    "#Import libraries\n",
    "import pandas as pd\n",
    "import numpy as np\n",
    "from sklearn.preprocessing import StandardScaler\n",
    "# from sklearn.decomposition import PCA\n",
    "from sklearn.linear_model import LogisticRegression\n",
    "import matplotlib.pyplot as plt \n",
    "plt.rc(\"font\", size=14)\n",
    "\n",
    "from sklearn.model_selection import train_test_split\n",
    "from sklearn.metrics import confusion_matrix, classification_report\n",
    "import seaborn as sns\n",
    "sns.set(style=\"white\")\n",
    "sns.set(style=\"whitegrid\", color_codes=True)"
   ]
  },
  {
   "attachments": {},
   "cell_type": "markdown",
   "metadata": {
    "id": "bKB5E_aMeVZ4"
   },
   "source": [
    "<font face = \"Tahoma\" size = 3> Read data and feature processing"
   ]
  },
  {
   "cell_type": "code",
   "execution_count": 44,
   "metadata": {
    "ExecuteTime": {
     "end_time": "2022-02-09T04:46:14.593281Z",
     "start_time": "2022-02-09T04:46:14.536806Z"
    },
    "colab": {
     "base_uri": "https://localhost:8080/",
     "height": 488
    },
    "executionInfo": {
     "elapsed": 218,
     "status": "ok",
     "timestamp": 1644360353754,
     "user": {
      "displayName": "Brent Hensley",
      "photoUrl": "https://lh3.googleusercontent.com/a/default-user=s64",
      "userId": "00674240744772166008"
     },
     "user_tz": 360
    },
    "id": "pB7GV-j9eai_",
    "outputId": "933a755b-1a4c-4705-8b30-bded40fc4bb2"
   },
   "outputs": [
    {
     "data": {
      "text/plain": [
       "Index(['Choice', 'A_follower_count', 'A_following_count', 'A_listed_count',\n",
       "       'A_mentions_received', 'A_retweets_received', 'A_mentions_sent',\n",
       "       'A_retweets_sent', 'A_posts', 'A_network_feature_1',\n",
       "       'A_network_feature_2', 'A_network_feature_3', 'B_follower_count',\n",
       "       'B_following_count', 'B_listed_count', 'B_mentions_received',\n",
       "       'B_retweets_received', 'B_mentions_sent', 'B_retweets_sent', 'B_posts',\n",
       "       'B_network_feature_1', 'B_network_feature_2', 'B_network_feature_3'],\n",
       "      dtype='object')"
      ]
     },
     "execution_count": 44,
     "metadata": {},
     "output_type": "execute_result"
    }
   ],
   "source": [
    "df = pd.read_csv('train.csv')\n",
    "df.columns"
   ]
  },
  {
   "attachments": {},
   "cell_type": "markdown",
   "metadata": {
    "id": "bKB5E_aMeVZ4"
   },
   "source": [
    "<font face = \"Tahoma\" size = 3> Business hypothesis\n",
    "<br><br>\n",
    "The features that might be indicative of social media influence are :\n",
    "- Follower counts \n",
    "- Listed counts \n",
    "- Mentions received \n",
    "- Retweets received\n",
    "- Number of posts\n",
    "- Network features 1,2 and 3\n"
   ]
  },
  {
   "cell_type": "code",
   "execution_count": 45,
   "metadata": {
    "ExecuteTime": {
     "end_time": "2022-02-09T04:46:15.015384Z",
     "start_time": "2022-02-09T04:46:14.986748Z"
    },
    "executionInfo": {
     "elapsed": 150,
     "status": "ok",
     "timestamp": 1644362259118,
     "user": {
      "displayName": "Brent Hensley",
      "photoUrl": "https://lh3.googleusercontent.com/a/default-user=s64",
      "userId": "00674240744772166008"
     },
     "user_tz": 360
    },
    "id": "spA-bct0hAgZ"
   },
   "outputs": [],
   "source": [
    "diff_cols = ['Diff_follower_count', 'Diff_following_count', 'Diff_listed_count', 'Diff_mentions_received', \n",
    "        'Diff_retweets_received', 'Diff_mentions_sent', 'Diff_retweets_sent', 'Diff_posts', \n",
    "        'Diff_network_feature_1', 'Diff_network_feature_2', 'Diff_network_feature_3']\n",
    "\n",
    "#Initialize difference columns\n",
    "for i in range(len(diff_cols)):\n",
    "    df[diff_cols[i]] = 0\n",
    "for i in range(len(diff_cols)):\n",
    "    df[diff_cols[i]] = df.iloc[i,i+1]-df.iloc[:,i+1+len(diff_cols)]"
   ]
  },
  {
   "cell_type": "code",
   "execution_count": 46,
   "metadata": {
    "ExecuteTime": {
     "end_time": "2022-02-09T04:46:15.224531Z",
     "start_time": "2022-02-09T04:46:15.215515Z"
    }
   },
   "outputs": [],
   "source": [
    "ratio_cols = ['Ratio_follower_count', 'Ratio_following_count', 'Ratio_listed_count', 'Ratio_mentions_received', \n",
    "        'Ratio_retweets_received', 'Ratio_mentions_sent', 'Ratio_retweets_sent', 'Ratio_posts', \n",
    "        'Ratio_network_feature_1', 'Ratio_network_feature_2', 'Ratio_network_feature_3']\n",
    "\n",
    "#Initialize difference columns\n",
    "for i in range(len(ratio_cols)):\n",
    "    df[ratio_cols[i]] = 0\n",
    "for i in range(len(ratio_cols)):\n",
    "    df[ratio_cols[i]] = df.iloc[i,i+1]-df.iloc[:,i+1+len(ratio_cols)]"
   ]
  },
  {
   "cell_type": "code",
   "execution_count": 47,
   "metadata": {
    "ExecuteTime": {
     "end_time": "2022-02-09T04:46:15.454485Z",
     "start_time": "2022-02-09T04:46:15.434343Z"
    }
   },
   "outputs": [
    {
     "data": {
      "text/html": [
       "<div>\n",
       "<style scoped>\n",
       "    .dataframe tbody tr th:only-of-type {\n",
       "        vertical-align: middle;\n",
       "    }\n",
       "\n",
       "    .dataframe tbody tr th {\n",
       "        vertical-align: top;\n",
       "    }\n",
       "\n",
       "    .dataframe thead th {\n",
       "        text-align: right;\n",
       "    }\n",
       "</style>\n",
       "<table border=\"1\" class=\"dataframe\">\n",
       "  <thead>\n",
       "    <tr style=\"text-align: right;\">\n",
       "      <th></th>\n",
       "      <th>Choice</th>\n",
       "      <th>Diff_follower_count</th>\n",
       "      <th>Diff_following_count</th>\n",
       "      <th>Diff_listed_count</th>\n",
       "      <th>Diff_mentions_received</th>\n",
       "      <th>Diff_retweets_received</th>\n",
       "      <th>Diff_mentions_sent</th>\n",
       "      <th>Diff_retweets_sent</th>\n",
       "      <th>Diff_posts</th>\n",
       "      <th>Diff_network_feature_1</th>\n",
       "      <th>...</th>\n",
       "      <th>Ratio_following_count</th>\n",
       "      <th>Ratio_listed_count</th>\n",
       "      <th>Ratio_mentions_received</th>\n",
       "      <th>Ratio_retweets_received</th>\n",
       "      <th>Ratio_mentions_sent</th>\n",
       "      <th>Ratio_retweets_sent</th>\n",
       "      <th>Ratio_posts</th>\n",
       "      <th>Ratio_network_feature_1</th>\n",
       "      <th>Ratio_network_feature_2</th>\n",
       "      <th>Ratio_network_feature_3</th>\n",
       "    </tr>\n",
       "  </thead>\n",
       "  <tbody>\n",
       "    <tr>\n",
       "      <th>0</th>\n",
       "      <td>0</td>\n",
       "      <td>-34235</td>\n",
       "      <td>-28629</td>\n",
       "      <td>-1588</td>\n",
       "      <td>-7.739674</td>\n",
       "      <td>33.014855</td>\n",
       "      <td>-8.103828</td>\n",
       "      <td>-0.231920</td>\n",
       "      <td>-0.182770</td>\n",
       "      <td>21612</td>\n",
       "      <td>...</td>\n",
       "      <td>-28629</td>\n",
       "      <td>-1588</td>\n",
       "      <td>-7.739674</td>\n",
       "      <td>33.014855</td>\n",
       "      <td>-8.103828</td>\n",
       "      <td>-0.231920</td>\n",
       "      <td>-0.182770</td>\n",
       "      <td>21612</td>\n",
       "      <td>200.966213</td>\n",
       "      <td>-1905.893939</td>\n",
       "    </tr>\n",
       "    <tr>\n",
       "      <th>1</th>\n",
       "      <td>0</td>\n",
       "      <td>-39034</td>\n",
       "      <td>331</td>\n",
       "      <td>-1509</td>\n",
       "      <td>-32.804197</td>\n",
       "      <td>28.055277</td>\n",
       "      <td>-3.127174</td>\n",
       "      <td>-0.463839</td>\n",
       "      <td>5.735725</td>\n",
       "      <td>21515</td>\n",
       "      <td>...</td>\n",
       "      <td>331</td>\n",
       "      <td>-1509</td>\n",
       "      <td>-32.804197</td>\n",
       "      <td>28.055277</td>\n",
       "      <td>-3.127174</td>\n",
       "      <td>-0.463839</td>\n",
       "      <td>5.735725</td>\n",
       "      <td>21515</td>\n",
       "      <td>144.465841</td>\n",
       "      <td>-2920.515337</td>\n",
       "    </tr>\n",
       "    <tr>\n",
       "      <th>2</th>\n",
       "      <td>0</td>\n",
       "      <td>-3394</td>\n",
       "      <td>697</td>\n",
       "      <td>-105</td>\n",
       "      <td>6.956128</td>\n",
       "      <td>36.644505</td>\n",
       "      <td>-0.502699</td>\n",
       "      <td>0.000000</td>\n",
       "      <td>6.202843</td>\n",
       "      <td>21675</td>\n",
       "      <td>...</td>\n",
       "      <td>697</td>\n",
       "      <td>-105</td>\n",
       "      <td>6.956128</td>\n",
       "      <td>36.644505</td>\n",
       "      <td>-0.502699</td>\n",
       "      <td>0.000000</td>\n",
       "      <td>6.202843</td>\n",
       "      <td>21675</td>\n",
       "      <td>266.163182</td>\n",
       "      <td>-266.333333</td>\n",
       "    </tr>\n",
       "    <tr>\n",
       "      <th>3</th>\n",
       "      <td>0</td>\n",
       "      <td>-19334</td>\n",
       "      <td>-16458</td>\n",
       "      <td>-177</td>\n",
       "      <td>-565.184032</td>\n",
       "      <td>-353.294797</td>\n",
       "      <td>-27.451537</td>\n",
       "      <td>-7.067053</td>\n",
       "      <td>-25.295861</td>\n",
       "      <td>19916</td>\n",
       "      <td>...</td>\n",
       "      <td>-16458</td>\n",
       "      <td>-177</td>\n",
       "      <td>-565.184032</td>\n",
       "      <td>-353.294797</td>\n",
       "      <td>-27.451537</td>\n",
       "      <td>-7.067053</td>\n",
       "      <td>-25.295861</td>\n",
       "      <td>19916</td>\n",
       "      <td>253.027220</td>\n",
       "      <td>-1384.845634</td>\n",
       "    </tr>\n",
       "    <tr>\n",
       "      <th>4</th>\n",
       "      <td>1</td>\n",
       "      <td>-7326</td>\n",
       "      <td>-532</td>\n",
       "      <td>-80</td>\n",
       "      <td>-13.911042</td>\n",
       "      <td>33.417223</td>\n",
       "      <td>-6.664154</td>\n",
       "      <td>-1.019223</td>\n",
       "      <td>2.242799</td>\n",
       "      <td>21593</td>\n",
       "      <td>...</td>\n",
       "      <td>-532</td>\n",
       "      <td>-80</td>\n",
       "      <td>-13.911042</td>\n",
       "      <td>33.417223</td>\n",
       "      <td>-6.664154</td>\n",
       "      <td>-1.019223</td>\n",
       "      <td>2.242799</td>\n",
       "      <td>21593</td>\n",
       "      <td>227.996516</td>\n",
       "      <td>-1982.627907</td>\n",
       "    </tr>\n",
       "    <tr>\n",
       "      <th>5</th>\n",
       "      <td>0</td>\n",
       "      <td>-10919</td>\n",
       "      <td>-321</td>\n",
       "      <td>-373</td>\n",
       "      <td>-32.901689</td>\n",
       "      <td>31.075875</td>\n",
       "      <td>-19.547561</td>\n",
       "      <td>-1.761262</td>\n",
       "      <td>-5.454984</td>\n",
       "      <td>21550</td>\n",
       "      <td>...</td>\n",
       "      <td>-321</td>\n",
       "      <td>-373</td>\n",
       "      <td>-32.901689</td>\n",
       "      <td>31.075875</td>\n",
       "      <td>-19.547561</td>\n",
       "      <td>-1.761262</td>\n",
       "      <td>-5.454984</td>\n",
       "      <td>21550</td>\n",
       "      <td>169.064697</td>\n",
       "      <td>-2470.136364</td>\n",
       "    </tr>\n",
       "    <tr>\n",
       "      <th>6</th>\n",
       "      <td>0</td>\n",
       "      <td>-185388</td>\n",
       "      <td>178</td>\n",
       "      <td>-15016</td>\n",
       "      <td>-258.323050</td>\n",
       "      <td>-17.346347</td>\n",
       "      <td>-13.011400</td>\n",
       "      <td>-0.234262</td>\n",
       "      <td>-6.859127</td>\n",
       "      <td>20750</td>\n",
       "      <td>...</td>\n",
       "      <td>178</td>\n",
       "      <td>-15016</td>\n",
       "      <td>-258.323050</td>\n",
       "      <td>-17.346347</td>\n",
       "      <td>-13.011400</td>\n",
       "      <td>-0.234262</td>\n",
       "      <td>-6.859127</td>\n",
       "      <td>20750</td>\n",
       "      <td>103.510287</td>\n",
       "      <td>-5310.646186</td>\n",
       "    </tr>\n",
       "    <tr>\n",
       "      <th>7</th>\n",
       "      <td>1</td>\n",
       "      <td>-7892</td>\n",
       "      <td>469</td>\n",
       "      <td>-858</td>\n",
       "      <td>0.322181</td>\n",
       "      <td>34.910509</td>\n",
       "      <td>-1.498295</td>\n",
       "      <td>-0.495309</td>\n",
       "      <td>5.473196</td>\n",
       "      <td>21649</td>\n",
       "      <td>...</td>\n",
       "      <td>469</td>\n",
       "      <td>-858</td>\n",
       "      <td>0.322181</td>\n",
       "      <td>34.910509</td>\n",
       "      <td>-1.498295</td>\n",
       "      <td>-0.495309</td>\n",
       "      <td>5.473196</td>\n",
       "      <td>21649</td>\n",
       "      <td>70.963182</td>\n",
       "      <td>-4291.466667</td>\n",
       "    </tr>\n",
       "    <tr>\n",
       "      <th>8</th>\n",
       "      <td>1</td>\n",
       "      <td>-298440</td>\n",
       "      <td>628</td>\n",
       "      <td>-6108</td>\n",
       "      <td>-485.565556</td>\n",
       "      <td>-169.661668</td>\n",
       "      <td>-4.014709</td>\n",
       "      <td>-0.754036</td>\n",
       "      <td>3.730582</td>\n",
       "      <td>19657</td>\n",
       "      <td>...</td>\n",
       "      <td>628</td>\n",
       "      <td>-6108</td>\n",
       "      <td>-485.565556</td>\n",
       "      <td>-169.661668</td>\n",
       "      <td>-4.014709</td>\n",
       "      <td>-0.754036</td>\n",
       "      <td>3.730582</td>\n",
       "      <td>19657</td>\n",
       "      <td>200.526418</td>\n",
       "      <td>-3854.446569</td>\n",
       "    </tr>\n",
       "    <tr>\n",
       "      <th>9</th>\n",
       "      <td>0</td>\n",
       "      <td>-117685</td>\n",
       "      <td>-120</td>\n",
       "      <td>-9849</td>\n",
       "      <td>-182.064406</td>\n",
       "      <td>-30.311339</td>\n",
       "      <td>-11.194327</td>\n",
       "      <td>-2.466766</td>\n",
       "      <td>-4.127721</td>\n",
       "      <td>20887</td>\n",
       "      <td>...</td>\n",
       "      <td>-120</td>\n",
       "      <td>-9849</td>\n",
       "      <td>-182.064406</td>\n",
       "      <td>-30.311339</td>\n",
       "      <td>-11.194327</td>\n",
       "      <td>-2.466766</td>\n",
       "      <td>-4.127721</td>\n",
       "      <td>20887</td>\n",
       "      <td>90.954483</td>\n",
       "      <td>-5524.939774</td>\n",
       "    </tr>\n",
       "  </tbody>\n",
       "</table>\n",
       "<p>10 rows × 23 columns</p>\n",
       "</div>"
      ],
      "text/plain": [
       "   Choice  Diff_follower_count  Diff_following_count  Diff_listed_count  \\\n",
       "0       0               -34235                -28629              -1588   \n",
       "1       0               -39034                   331              -1509   \n",
       "2       0                -3394                   697               -105   \n",
       "3       0               -19334                -16458               -177   \n",
       "4       1                -7326                  -532                -80   \n",
       "5       0               -10919                  -321               -373   \n",
       "6       0              -185388                   178             -15016   \n",
       "7       1                -7892                   469               -858   \n",
       "8       1              -298440                   628              -6108   \n",
       "9       0              -117685                  -120              -9849   \n",
       "\n",
       "   Diff_mentions_received  Diff_retweets_received  Diff_mentions_sent  \\\n",
       "0               -7.739674               33.014855           -8.103828   \n",
       "1              -32.804197               28.055277           -3.127174   \n",
       "2                6.956128               36.644505           -0.502699   \n",
       "3             -565.184032             -353.294797          -27.451537   \n",
       "4              -13.911042               33.417223           -6.664154   \n",
       "5              -32.901689               31.075875          -19.547561   \n",
       "6             -258.323050              -17.346347          -13.011400   \n",
       "7                0.322181               34.910509           -1.498295   \n",
       "8             -485.565556             -169.661668           -4.014709   \n",
       "9             -182.064406              -30.311339          -11.194327   \n",
       "\n",
       "   Diff_retweets_sent  Diff_posts  Diff_network_feature_1  ...  \\\n",
       "0           -0.231920   -0.182770                   21612  ...   \n",
       "1           -0.463839    5.735725                   21515  ...   \n",
       "2            0.000000    6.202843                   21675  ...   \n",
       "3           -7.067053  -25.295861                   19916  ...   \n",
       "4           -1.019223    2.242799                   21593  ...   \n",
       "5           -1.761262   -5.454984                   21550  ...   \n",
       "6           -0.234262   -6.859127                   20750  ...   \n",
       "7           -0.495309    5.473196                   21649  ...   \n",
       "8           -0.754036    3.730582                   19657  ...   \n",
       "9           -2.466766   -4.127721                   20887  ...   \n",
       "\n",
       "   Ratio_following_count  Ratio_listed_count  Ratio_mentions_received  \\\n",
       "0                 -28629               -1588                -7.739674   \n",
       "1                    331               -1509               -32.804197   \n",
       "2                    697                -105                 6.956128   \n",
       "3                 -16458                -177              -565.184032   \n",
       "4                   -532                 -80               -13.911042   \n",
       "5                   -321                -373               -32.901689   \n",
       "6                    178              -15016              -258.323050   \n",
       "7                    469                -858                 0.322181   \n",
       "8                    628               -6108              -485.565556   \n",
       "9                   -120               -9849              -182.064406   \n",
       "\n",
       "   Ratio_retweets_received  Ratio_mentions_sent  Ratio_retweets_sent  \\\n",
       "0                33.014855            -8.103828            -0.231920   \n",
       "1                28.055277            -3.127174            -0.463839   \n",
       "2                36.644505            -0.502699             0.000000   \n",
       "3              -353.294797           -27.451537            -7.067053   \n",
       "4                33.417223            -6.664154            -1.019223   \n",
       "5                31.075875           -19.547561            -1.761262   \n",
       "6               -17.346347           -13.011400            -0.234262   \n",
       "7                34.910509            -1.498295            -0.495309   \n",
       "8              -169.661668            -4.014709            -0.754036   \n",
       "9               -30.311339           -11.194327            -2.466766   \n",
       "\n",
       "   Ratio_posts  Ratio_network_feature_1  Ratio_network_feature_2  \\\n",
       "0    -0.182770                    21612               200.966213   \n",
       "1     5.735725                    21515               144.465841   \n",
       "2     6.202843                    21675               266.163182   \n",
       "3   -25.295861                    19916               253.027220   \n",
       "4     2.242799                    21593               227.996516   \n",
       "5    -5.454984                    21550               169.064697   \n",
       "6    -6.859127                    20750               103.510287   \n",
       "7     5.473196                    21649                70.963182   \n",
       "8     3.730582                    19657               200.526418   \n",
       "9    -4.127721                    20887                90.954483   \n",
       "\n",
       "   Ratio_network_feature_3  \n",
       "0             -1905.893939  \n",
       "1             -2920.515337  \n",
       "2              -266.333333  \n",
       "3             -1384.845634  \n",
       "4             -1982.627907  \n",
       "5             -2470.136364  \n",
       "6             -5310.646186  \n",
       "7             -4291.466667  \n",
       "8             -3854.446569  \n",
       "9             -5524.939774  \n",
       "\n",
       "[10 rows x 23 columns]"
      ]
     },
     "execution_count": 47,
     "metadata": {},
     "output_type": "execute_result"
    }
   ],
   "source": [
    "#Analysis on difference columns\n",
    "df2 = pd.concat([pd.DataFrame(df['Choice']), df.iloc[:,23:]], axis = 1)\n",
    "df2.head(10)"
   ]
  },
  {
   "cell_type": "code",
   "execution_count": 48,
   "metadata": {
    "ExecuteTime": {
     "end_time": "2022-02-09T04:46:15.726011Z",
     "start_time": "2022-02-09T04:46:15.723399Z"
    },
    "executionInfo": {
     "elapsed": 146,
     "status": "ok",
     "timestamp": 1644362183947,
     "user": {
      "displayName": "Brent Hensley",
      "photoUrl": "https://lh3.googleusercontent.com/a/default-user=s64",
      "userId": "00674240744772166008"
     },
     "user_tz": 360
    },
    "id": "5tlWyO3tiQVl"
   },
   "outputs": [],
   "source": [
    "# x = df2.loc[:,cols].values\n",
    "# x = StandardScaler().fit_transform(x)\n",
    "# pca = PCA(n_components=5)\n",
    "# pcs = pca.fit_transform(x)\n",
    "# pcs"
   ]
  },
  {
   "cell_type": "markdown",
   "metadata": {
    "id": "4LEfvmdVpBCi"
   },
   "source": [
    "<font face = \"Tahoma\" size = 3> Normalize data and create train test split\n",
    "<br><br>"
   ]
  },
  {
   "cell_type": "code",
   "execution_count": 49,
   "metadata": {
    "ExecuteTime": {
     "end_time": "2022-02-09T04:46:16.469125Z",
     "start_time": "2022-02-09T04:46:16.429381Z"
    },
    "colab": {
     "base_uri": "https://localhost:8080/",
     "height": 488
    },
    "executionInfo": {
     "elapsed": 135,
     "status": "ok",
     "timestamp": 1644365219380,
     "user": {
      "displayName": "Brent Hensley",
      "photoUrl": "https://lh3.googleusercontent.com/a/default-user=s64",
      "userId": "00674240744772166008"
     },
     "user_tz": 360
    },
    "id": "uYhZoq5qn1t6",
    "outputId": "af42e482-ed6b-4a26-c9e5-410b41e2f665",
    "scrolled": false
   },
   "outputs": [
    {
     "data": {
      "text/html": [
       "<div>\n",
       "<style scoped>\n",
       "    .dataframe tbody tr th:only-of-type {\n",
       "        vertical-align: middle;\n",
       "    }\n",
       "\n",
       "    .dataframe tbody tr th {\n",
       "        vertical-align: top;\n",
       "    }\n",
       "\n",
       "    .dataframe thead th {\n",
       "        text-align: right;\n",
       "    }\n",
       "</style>\n",
       "<table border=\"1\" class=\"dataframe\">\n",
       "  <thead>\n",
       "    <tr style=\"text-align: right;\">\n",
       "      <th></th>\n",
       "      <th>Diff_follower_count</th>\n",
       "      <th>Diff_following_count</th>\n",
       "      <th>Diff_listed_count</th>\n",
       "      <th>Diff_mentions_received</th>\n",
       "      <th>Diff_retweets_received</th>\n",
       "      <th>Diff_mentions_sent</th>\n",
       "      <th>Diff_retweets_sent</th>\n",
       "      <th>Diff_posts</th>\n",
       "      <th>Diff_network_feature_1</th>\n",
       "      <th>Diff_network_feature_2</th>\n",
       "      <th>Diff_network_feature_3</th>\n",
       "    </tr>\n",
       "  </thead>\n",
       "  <tbody>\n",
       "    <tr>\n",
       "      <th>0</th>\n",
       "      <td>0.3013</td>\n",
       "      <td>-0.3411</td>\n",
       "      <td>0.2586</td>\n",
       "      <td>0.1012</td>\n",
       "      <td>0.1063</td>\n",
       "      <td>-0.2163</td>\n",
       "      <td>0.3989</td>\n",
       "      <td>0.1296</td>\n",
       "      <td>0.1938</td>\n",
       "      <td>0.0890</td>\n",
       "      <td>0.3313</td>\n",
       "    </tr>\n",
       "    <tr>\n",
       "      <th>1</th>\n",
       "      <td>0.2991</td>\n",
       "      <td>0.2376</td>\n",
       "      <td>0.2634</td>\n",
       "      <td>0.1002</td>\n",
       "      <td>0.1058</td>\n",
       "      <td>0.2952</td>\n",
       "      <td>0.2794</td>\n",
       "      <td>0.4343</td>\n",
       "      <td>0.1902</td>\n",
       "      <td>-0.4406</td>\n",
       "      <td>0.1475</td>\n",
       "    </tr>\n",
       "    <tr>\n",
       "      <th>2</th>\n",
       "      <td>0.3156</td>\n",
       "      <td>0.2449</td>\n",
       "      <td>0.3496</td>\n",
       "      <td>0.1018</td>\n",
       "      <td>0.1067</td>\n",
       "      <td>0.5650</td>\n",
       "      <td>0.5185</td>\n",
       "      <td>0.4584</td>\n",
       "      <td>0.1961</td>\n",
       "      <td>0.7001</td>\n",
       "      <td>0.6285</td>\n",
       "    </tr>\n",
       "    <tr>\n",
       "      <th>3</th>\n",
       "      <td>0.3082</td>\n",
       "      <td>-0.0979</td>\n",
       "      <td>0.3452</td>\n",
       "      <td>0.0790</td>\n",
       "      <td>0.0650</td>\n",
       "      <td>-2.2051</td>\n",
       "      <td>-3.1248</td>\n",
       "      <td>-1.1634</td>\n",
       "      <td>0.1304</td>\n",
       "      <td>0.5770</td>\n",
       "      <td>0.4258</td>\n",
       "    </tr>\n",
       "    <tr>\n",
       "      <th>4</th>\n",
       "      <td>0.3138</td>\n",
       "      <td>0.2203</td>\n",
       "      <td>0.3511</td>\n",
       "      <td>0.1010</td>\n",
       "      <td>0.1064</td>\n",
       "      <td>-0.0684</td>\n",
       "      <td>-0.0070</td>\n",
       "      <td>0.2545</td>\n",
       "      <td>0.1931</td>\n",
       "      <td>0.3424</td>\n",
       "      <td>0.3174</td>\n",
       "    </tr>\n",
       "    <tr>\n",
       "      <th>5</th>\n",
       "      <td>0.3121</td>\n",
       "      <td>0.2245</td>\n",
       "      <td>0.3331</td>\n",
       "      <td>0.1002</td>\n",
       "      <td>0.1061</td>\n",
       "      <td>-1.3926</td>\n",
       "      <td>-0.3895</td>\n",
       "      <td>-0.1419</td>\n",
       "      <td>0.1915</td>\n",
       "      <td>-0.2100</td>\n",
       "      <td>0.2291</td>\n",
       "    </tr>\n",
       "    <tr>\n",
       "      <th>6</th>\n",
       "      <td>0.2314</td>\n",
       "      <td>0.2345</td>\n",
       "      <td>-0.5654</td>\n",
       "      <td>0.0912</td>\n",
       "      <td>0.1009</td>\n",
       "      <td>-0.7208</td>\n",
       "      <td>0.3977</td>\n",
       "      <td>-0.2141</td>\n",
       "      <td>0.1616</td>\n",
       "      <td>-0.8245</td>\n",
       "      <td>-0.2857</td>\n",
       "    </tr>\n",
       "    <tr>\n",
       "      <th>7</th>\n",
       "      <td>0.3135</td>\n",
       "      <td>0.2403</td>\n",
       "      <td>0.3034</td>\n",
       "      <td>0.1015</td>\n",
       "      <td>0.1065</td>\n",
       "      <td>0.4626</td>\n",
       "      <td>0.2631</td>\n",
       "      <td>0.4208</td>\n",
       "      <td>0.1952</td>\n",
       "      <td>-1.1296</td>\n",
       "      <td>-0.1010</td>\n",
       "    </tr>\n",
       "    <tr>\n",
       "      <th>8</th>\n",
       "      <td>0.1790</td>\n",
       "      <td>0.2435</td>\n",
       "      <td>-0.0188</td>\n",
       "      <td>0.0822</td>\n",
       "      <td>0.0846</td>\n",
       "      <td>0.2040</td>\n",
       "      <td>0.1298</td>\n",
       "      <td>0.3311</td>\n",
       "      <td>0.1208</td>\n",
       "      <td>0.0849</td>\n",
       "      <td>-0.0218</td>\n",
       "    </tr>\n",
       "    <tr>\n",
       "      <th>9</th>\n",
       "      <td>0.2627</td>\n",
       "      <td>0.2286</td>\n",
       "      <td>-0.2483</td>\n",
       "      <td>0.0943</td>\n",
       "      <td>0.0995</td>\n",
       "      <td>-0.5340</td>\n",
       "      <td>-0.7532</td>\n",
       "      <td>-0.0735</td>\n",
       "      <td>0.1667</td>\n",
       "      <td>-0.9422</td>\n",
       "      <td>-0.3245</td>\n",
       "    </tr>\n",
       "  </tbody>\n",
       "</table>\n",
       "</div>"
      ],
      "text/plain": [
       "   Diff_follower_count  Diff_following_count  Diff_listed_count  \\\n",
       "0               0.3013               -0.3411             0.2586   \n",
       "1               0.2991                0.2376             0.2634   \n",
       "2               0.3156                0.2449             0.3496   \n",
       "3               0.3082               -0.0979             0.3452   \n",
       "4               0.3138                0.2203             0.3511   \n",
       "5               0.3121                0.2245             0.3331   \n",
       "6               0.2314                0.2345            -0.5654   \n",
       "7               0.3135                0.2403             0.3034   \n",
       "8               0.1790                0.2435            -0.0188   \n",
       "9               0.2627                0.2286            -0.2483   \n",
       "\n",
       "   Diff_mentions_received  Diff_retweets_received  Diff_mentions_sent  \\\n",
       "0                  0.1012                  0.1063             -0.2163   \n",
       "1                  0.1002                  0.1058              0.2952   \n",
       "2                  0.1018                  0.1067              0.5650   \n",
       "3                  0.0790                  0.0650             -2.2051   \n",
       "4                  0.1010                  0.1064             -0.0684   \n",
       "5                  0.1002                  0.1061             -1.3926   \n",
       "6                  0.0912                  0.1009             -0.7208   \n",
       "7                  0.1015                  0.1065              0.4626   \n",
       "8                  0.0822                  0.0846              0.2040   \n",
       "9                  0.0943                  0.0995             -0.5340   \n",
       "\n",
       "   Diff_retweets_sent  Diff_posts  Diff_network_feature_1  \\\n",
       "0              0.3989      0.1296                  0.1938   \n",
       "1              0.2794      0.4343                  0.1902   \n",
       "2              0.5185      0.4584                  0.1961   \n",
       "3             -3.1248     -1.1634                  0.1304   \n",
       "4             -0.0070      0.2545                  0.1931   \n",
       "5             -0.3895     -0.1419                  0.1915   \n",
       "6              0.3977     -0.2141                  0.1616   \n",
       "7              0.2631      0.4208                  0.1952   \n",
       "8              0.1298      0.3311                  0.1208   \n",
       "9             -0.7532     -0.0735                  0.1667   \n",
       "\n",
       "   Diff_network_feature_2  Diff_network_feature_3  \n",
       "0                  0.0890                  0.3313  \n",
       "1                 -0.4406                  0.1475  \n",
       "2                  0.7001                  0.6285  \n",
       "3                  0.5770                  0.4258  \n",
       "4                  0.3424                  0.3174  \n",
       "5                 -0.2100                  0.2291  \n",
       "6                 -0.8245                 -0.2857  \n",
       "7                 -1.1296                 -0.1010  \n",
       "8                  0.0849                 -0.0218  \n",
       "9                 -0.9422                 -0.3245  "
      ]
     },
     "execution_count": 49,
     "metadata": {},
     "output_type": "execute_result"
    }
   ],
   "source": [
    "array3 = df2.loc[:,diff_cols].values\n",
    "array3 = StandardScaler().fit_transform(array3)\n",
    "df3 = pd.DataFrame(array3, columns = diff_cols)\n",
    "df3 = df3.round(4)\n",
    "df3.head(10)"
   ]
  },
  {
   "cell_type": "code",
   "execution_count": 50,
   "metadata": {
    "ExecuteTime": {
     "end_time": "2022-02-09T04:46:16.948168Z",
     "start_time": "2022-02-09T04:46:16.939145Z"
    }
   },
   "outputs": [],
   "source": [
    "df3['Choice'] = df2['Choice']\n",
    "X_train, y_train = df3[diff_cols].values , df3['Choice'].values"
   ]
  },
  {
   "cell_type": "code",
   "execution_count": 51,
   "metadata": {
    "ExecuteTime": {
     "end_time": "2022-02-09T04:46:18.071400Z",
     "start_time": "2022-02-09T04:46:17.997239Z"
    }
   },
   "outputs": [
    {
     "name": "stdout",
     "output_type": "stream",
     "text": [
      "Optimization terminated successfully.\n",
      "         Current function value: 0.635451\n",
      "         Iterations 7\n",
      "                           Logit Regression Results                           \n",
      "==============================================================================\n",
      "Dep. Variable:                      y   No. Observations:                 5500\n",
      "Model:                          Logit   Df Residuals:                     5489\n",
      "Method:                           MLE   Df Model:                           10\n",
      "Date:                Tue, 08 Feb 2022   Pseudo R-squ.:                 0.08300\n",
      "Time:                        22:46:18   Log-Likelihood:                -3495.0\n",
      "converged:                       True   LL-Null:                       -3811.3\n",
      "Covariance Type:            nonrobust   LLR p-value:                1.737e-129\n",
      "==============================================================================\n",
      "                 coef    std err          z      P>|z|      [0.025      0.975]\n",
      "------------------------------------------------------------------------------\n",
      "x1            -0.3411      0.079     -4.324      0.000      -0.496      -0.186\n",
      "x2            -0.0055      0.033     -0.168      0.866      -0.070       0.059\n",
      "x3             1.3807      0.099     13.902      0.000       1.186       1.575\n",
      "x4             0.0332      0.191      0.174      0.862      -0.341       0.407\n",
      "x5            -0.6354      0.349     -1.819      0.069      -1.320       0.049\n",
      "x6             0.1033      0.041      2.497      0.013       0.022       0.184\n",
      "x7             0.2060      0.044      4.658      0.000       0.119       0.293\n",
      "x8             0.0120      0.037      0.321      0.748      -0.061       0.085\n",
      "x9             0.5389      0.193      2.794      0.005       0.161       0.917\n",
      "x10            0.0907      0.036      2.549      0.011       0.021       0.160\n",
      "x11            0.1449      0.036      4.065      0.000       0.075       0.215\n",
      "==============================================================================\n"
     ]
    }
   ],
   "source": [
    "#Logistic regression to understand drivers of influence for A\n",
    "# model = LogisticRegression(solver='liblinear', random_state=0)\n",
    "\n",
    "#Stats model for p-values with all data\n",
    "import statsmodels.api as sm\n",
    "logit_model=sm.Logit(y_train,X_train)\n",
    "result=logit_model.fit()\n",
    "print(result.summary())"
   ]
  },
  {
   "cell_type": "code",
   "execution_count": 58,
   "metadata": {
    "ExecuteTime": {
     "end_time": "2022-02-09T04:49:33.784491Z",
     "start_time": "2022-02-09T04:49:33.723073Z"
    }
   },
   "outputs": [],
   "source": [
    "# performing predictions on the full datdaset\n",
    "yhat = result.predict(X_train)\n",
    "prediction = list(map(round, yhat))\n",
    "cm = confusion_matrix(y_train, prediction)\n",
    "report = classification_report(y_train , prediction)"
   ]
  },
  {
   "cell_type": "code",
   "execution_count": 59,
   "metadata": {
    "ExecuteTime": {
     "end_time": "2022-02-09T04:49:35.720981Z",
     "start_time": "2022-02-09T04:49:35.713831Z"
    }
   },
   "outputs": [
    {
     "name": "stdout",
     "output_type": "stream",
     "text": [
      "[[1443 1255]\n",
      " [ 578 2224]]\n"
     ]
    }
   ],
   "source": [
    "print(cm)"
   ]
  },
  {
   "cell_type": "code",
   "execution_count": 60,
   "metadata": {
    "ExecuteTime": {
     "end_time": "2022-02-09T04:49:37.651578Z",
     "start_time": "2022-02-09T04:49:37.645656Z"
    }
   },
   "outputs": [
    {
     "name": "stdout",
     "output_type": "stream",
     "text": [
      "              precision    recall  f1-score   support\n",
      "\n",
      "           0       0.71      0.53      0.61      2698\n",
      "           1       0.64      0.79      0.71      2802\n",
      "\n",
      "    accuracy                           0.67      5500\n",
      "   macro avg       0.68      0.66      0.66      5500\n",
      "weighted avg       0.68      0.67      0.66      5500\n",
      "\n"
     ]
    }
   ],
   "source": [
    "print(report)"
   ]
  },
  {
   "cell_type": "code",
   "execution_count": 70,
   "metadata": {
    "ExecuteTime": {
     "end_time": "2022-02-09T04:54:34.859974Z",
     "start_time": "2022-02-09T04:54:34.723730Z"
    }
   },
   "outputs": [
    {
     "data": {
      "image/png": "[encoded data removed]",
      "text/plain": [
       "<Figure size 576x576 with 1 Axes>"
      ]
     },
     "metadata": {},
     "output_type": "display_data"
    }
   ],
   "source": [
    "from pretty_confusion_matrix import pp_matrix\n",
    "df_cm = pd.DataFrame(cm, range(2), range(2))\n",
    "# plt.figure(figsize=(10,7))\n",
    "cmap = 'OrRd'\n",
    "pp_matrix(df_cm, cmap=cmap)"
   ]
  },
  {
   "cell_type": "code",
   "execution_count": null,
   "metadata": {},
   "outputs": [],
   "source": [
    "# #Plot Confusion Matrix\n",
    "# %matplotlib inline\n",
    "# class_names=[0,1] # name  of classes\n",
    "# fig, ax = plt.subplots()\n",
    "# tick_marks = np.arange(len(class_names))\n",
    "# plt.xticks(tick_marks, class_names)\n",
    "# plt.yticks(tick_marks, class_names)\n",
    "# # create heatmap\n",
    "# sns.heatmap(pd.DataFrame(confusion_matrix), annot=True, cmap=\"YlGnBu\" ,fmt='g')\n",
    "# ax.xaxis.set_label_position(\"top\")\n",
    "# plt.tight_layout()\n",
    "# plt.title('Confusion matrix', y=1.1)\n",
    "# plt.ylabel('Actual label')\n",
    "# plt.xlabel('Predicted label')"
   ]
  },
  {
   "cell_type": "code",
   "execution_count": null,
   "metadata": {},
   "outputs": [],
   "source": []
  },
  {
   "cell_type": "code",
   "execution_count": null,
   "metadata": {},
   "outputs": [],
   "source": []
  },
  {
   "cell_type": "code",
   "execution_count": null,
   "metadata": {},
   "outputs": [],
   "source": []
  },
  {
   "cell_type": "markdown",
   "metadata": {
    "id": "nPIaYstlifld"
   },
   "source": [
    "Variance contained in PCs:"
   ]
  },
  {
   "cell_type": "code",
   "execution_count": null,
   "metadata": {
    "colab": {
     "base_uri": "https://localhost:8080/"
    },
    "executionInfo": {
     "elapsed": 367,
     "status": "ok",
     "timestamp": 1644360776083,
     "user": {
      "displayName": "Brent Hensley",
      "photoUrl": "https://lh3.googleusercontent.com/a/default-user=s64",
      "userId": "00674240744772166008"
     },
     "user_tz": 360
    },
    "id": "70cOrJCEihnc",
    "outputId": "985580da-abcc-4251-be2a-1268b89e99b3"
   },
   "outputs": [],
   "source": [
    "sum(pca.explained_variance_ratio_)"
   ]
  },
  {
   "cell_type": "code",
   "execution_count": null,
   "metadata": {
    "colab": {
     "base_uri": "https://localhost:8080/",
     "height": 424
    },
    "executionInfo": {
     "elapsed": 156,
     "status": "ok",
     "timestamp": 1644360821572,
     "user": {
      "displayName": "Brent Hensley",
      "photoUrl": "https://lh3.googleusercontent.com/a/default-user=s64",
      "userId": "00674240744772166008"
     },
     "user_tz": 360
    },
    "id": "oOD4UJuTik-s",
    "outputId": "03b76f99-6d04-4ada-a9b0-1605a37e27fc"
   },
   "outputs": [],
   "source": [
    "PC_df = pd.DataFrame(data=pcs, columns = [\"PC1\", \"PC2\", \"PC3\", \"PC4\", \"PC5\"])\n",
    "PC_df"
   ]
  },
  {
   "cell_type": "markdown",
   "metadata": {
    "id": "O1O7lxbWmcNe"
   },
   "source": [
    "Logistic Regression:"
   ]
  },
  {
   "cell_type": "code",
   "execution_count": null,
   "metadata": {
    "colab": {
     "base_uri": "https://localhost:8080/"
    },
    "executionInfo": {
     "elapsed": 324,
     "status": "ok",
     "timestamp": 1644366366621,
     "user": {
      "displayName": "Brent Hensley",
      "photoUrl": "https://lh3.googleusercontent.com/a/default-user=s64",
      "userId": "00674240744772166008"
     },
     "user_tz": 360
    },
    "id": "pjg0kXNrm88g",
    "outputId": "d0869669-d411-4cab-f3b0-57e1eb0453b7"
   },
   "outputs": [],
   "source": [
    "X = df3[cols]\n",
    "y = df2.D_follower_count\n",
    "y"
   ]
  },
  {
   "cell_type": "code",
   "execution_count": null,
   "metadata": {
    "colab": {
     "base_uri": "https://localhost:8080/"
    },
    "executionInfo": {
     "elapsed": 143,
     "status": "ok",
     "timestamp": 1644366322521,
     "user": {
      "displayName": "Brent Hensley",
      "photoUrl": "https://lh3.googleusercontent.com/a/default-user=s64",
      "userId": "00674240744772166008"
     },
     "user_tz": 360
    },
    "id": "WWr043_Hx0jr",
    "outputId": "ab8b6267-7e2e-48ee-dcf6-0b3da2ae390d"
   },
   "outputs": [],
   "source": [
    "from sklearn import preprocessing\n",
    "le = preprocessing.LabelEncoder()\n",
    "y1 = le.fit(y)"
   ]
  },
  {
   "cell_type": "code",
   "execution_count": null,
   "metadata": {
    "executionInfo": {
     "elapsed": 46494,
     "status": "ok",
     "timestamp": 1644366416131,
     "user": {
      "displayName": "Brent Hensley",
      "photoUrl": "https://lh3.googleusercontent.com/a/default-user=s64",
      "userId": "00674240744772166008"
     },
     "user_tz": 360
    },
    "id": "_VLOdE8wmhpb"
   },
   "outputs": [],
   "source": [
    "X_train, X_test, y_train, y_test = train_test_split(X, y, test_size=0.3, random_state=0)\n",
    "logreg = LogisticRegression(max_iter=2000).fit(X_train, y_train)\n",
    "\n"
   ]
  },
  {
   "cell_type": "code",
   "execution_count": null,
   "metadata": {
    "colab": {
     "base_uri": "https://localhost:8080/"
    },
    "executionInfo": {
     "elapsed": 133,
     "status": "ok",
     "timestamp": 1644366433712,
     "user": {
      "displayName": "Brent Hensley",
      "photoUrl": "https://lh3.googleusercontent.com/a/default-user=s64",
      "userId": "00674240744772166008"
     },
     "user_tz": 360
    },
    "id": "BZxWb6Z_nXqa",
    "outputId": "f971fc62-fb60-4fe9-ce9a-a91377b4bef3"
   },
   "outputs": [],
   "source": [
    "y_pred = logreg.predict(X_test)\n",
    "print('Accuracy of logistic regression classifier on test set: {:.2f}'.format(logreg.score(X_test, y_test)))"
   ]
  },
  {
   "cell_type": "markdown",
   "metadata": {
    "id": "scCZCC8rnjbB"
   },
   "source": [
    "Confusion Matrix:"
   ]
  },
  {
   "cell_type": "code",
   "execution_count": null,
   "metadata": {
    "colab": {
     "base_uri": "https://localhost:8080/"
    },
    "executionInfo": {
     "elapsed": 149,
     "status": "ok",
     "timestamp": 1644366442326,
     "user": {
      "displayName": "Brent Hensley",
      "photoUrl": "https://lh3.googleusercontent.com/a/default-user=s64",
      "userId": "00674240744772166008"
     },
     "user_tz": 360
    },
    "id": "ygfHhwlxnlWS",
    "outputId": "6c581ccf-8568-4271-f481-83550105cee5"
   },
   "outputs": [],
   "source": [
    "from sklearn.metrics import confusion_matrix\n",
    "confusion_matrix = confusion_matrix(y_test, y_pred)\n",
    "print(confusion_matrix)"
   ]
  },
  {
   "cell_type": "code",
   "execution_count": null,
   "metadata": {
    "colab": {
     "background_save": true
    },
    "id": "P5ZjsBYh4RRf"
   },
   "outputs": [],
   "source": [
    "%matplotlib inline\n",
    "class_names=[0,1] # name  of classes\n",
    "fig, ax = plt.subplots()\n",
    "tick_marks = np.arange(len(class_names))\n",
    "plt.xticks(tick_marks, class_names)\n",
    "plt.yticks(tick_marks, class_names)\n",
    "# create heatmap\n",
    "sns.heatmap(pd.DataFrame(confusion_matrix), annot=True, cmap=\"YlGnBu\" ,fmt='g')\n",
    "ax.xaxis.set_label_position(\"top\")\n",
    "plt.tight_layout()\n",
    "plt.title('Confusion matrix', y=1.1)\n",
    "plt.ylabel('Actual label')\n",
    "plt.xlabel('Predicted label')"
   ]
  }
 ],
 "metadata": {
  "colab": {
   "authorship_tag": "ABX9TyODwAukZXbgcamVqORZr9Ut",
   "name": "Social Media Assignment 1.ipynb",
   "version": ""
  },
  "hide_input": false,
  "kernelspec": {
   "display_name": "Python 3 (ipykernel)",
   "language": "python",
   "name": "python3"
  },
  "language_info": {
   "codemirror_mode": {
    "name": "ipython",
    "version": 3
   },
   "file_extension": ".py",
   "mimetype": "text/x-python",
   "name": "python",
   "nbconvert_exporter": "python",
   "pygments_lexer": "ipython3",
   "version": "3.8.12"
  },
  "toc": {
   "base_numbering": 1,
   "nav_menu": {},
   "number_sections": true,
   "sideBar": true,
   "skip_h1_title": false,
   "title_cell": "Table of Contents",
   "title_sidebar": "Contents",
   "toc_cell": false,
   "toc_position": {},
   "toc_section_display": true,
   "toc_window_display": false
  },
  "varInspector": {
   "cols": {
    "lenName": 16,
    "lenType": 16,
    "lenVar": 40
   },
   "kernels_config": {
    "python": {
     "delete_cmd_postfix": "",
     "delete_cmd_prefix": "del ",
     "library": "var_list.py",
     "varRefreshCmd": "print(var_dic_list())"
    },
    "r": {
     "delete_cmd_postfix": ") ",
     "delete_cmd_prefix": "rm(",
     "library": "var_list.r",
     "varRefreshCmd": "cat(var_dic_list()) "
    }
   },
   "types_to_exclude": [
    "module",
    "function",
    "builtin_function_or_method",
    "instance",
    "_Feature"
   ],
   "window_display": false
  }
 },
 "nbformat": 4,
 "nbformat_minor": 1
}
